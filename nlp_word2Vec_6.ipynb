{
 "cells": [
  {
   "cell_type": "markdown",
   "metadata": {},
   "source": [
    "# Word2Vec\n",
    "\n",
    "- It is a popular word embedding technique used in Nlp\n",
    "- It is used to represent words as continuous vectors in a high dimensional space.\n",
    "- It is known for its ability to capture semantic relationship between words.\n",
    "- Word2Vec model learns distributed representations of word by training a large corpus of text.\n",
    "\n",
    "  - It is used over tf-idf and BOW because there is definitenly a chance of overfitting.\n",
    "  - Both BOW(Bag of Words) and Tf-idf (Term Frequency-inverse document frequency) apprach semantic information is not stored. Tf-idf gives importance to uncommon words."
   ]
  },
  {
   "cell_type": "code",
   "execution_count": 1,
   "metadata": {},
   "outputs": [],
   "source": [
    "import nltk\n",
    "from gensim.models import Word2Vec\n",
    "from nltk.corpus import stopwords\n"
   ]
  },
  {
   "cell_type": "code",
   "execution_count": 3,
   "metadata": {},
   "outputs": [],
   "source": [
    "import re"
   ]
  },
  {
   "cell_type": "code",
   "execution_count": 2,
   "metadata": {},
   "outputs": [],
   "source": [
    "para = \"\"\"The world is a vast expanse of incredible diversity, where cultures, traditions, and people intertwine to form a rich tapestry of humanity.\n",
    " From the bustling streets of New York City, where skyscrapers pierce the sky, to the serene landscapes of the Amazon rainforest, \n",
    " where vibrant wildlife thrives in harmony, every corner of this planet holds its own unique wonders. Traveling through the cobbled \n",
    " streets of ancient European cities, one can feel the weight of history in every stone, while the tranquil temples of Asia exude a sense of \n",
    " spiritual tranquility. Across continents, languages dance in the air, each carrying its own melody and stories passed down through generations. \n",
    " In the heart of Africa, the rhythmic beats of drums echo the soul of a vibrant continent, while the icy landscapes of Antarctica stand in stark \n",
    " contrast, reminding us of the planet's extremes. Nature's marvels, from the majestic peaks of the Himalayas to the crystal-clear waters of the\n",
    "Great Barrier Reef, leave us awestruck by their beauty and grandeur. Humanity's accomplishments, from scientific breakthroughs to artistic \n",
    "masterpieces, shape the world and propel us into the future. As we navigate the complexities of the modern age, the interconnectedness of our \n",
    "global community becomes increasingly apparent. The internet serves as a digital bridge, connecting minds and ideas across continents in an instant. \n",
    "Yet, amidst our technological advancements, we face challenges that demand collective action - environmental crises, social inequalities, \n",
    "and geopolitical tensions. However, hope glimmers on the horizon, fueled by the determination of individuals and organizations working tirelessly\n",
    " for positive change. In the quiet moments of reflection, we find solace in the simple joys of life - a shared meal with loved ones, the laughter of children\n",
    " playing, and the beauty of a sunset painting the sky in hues of orange and gold. Our world, with all its complexities and contradictions, \n",
    " remains a place of infinite possibilities, where the human spirit perseveres, inspired by the promise of a better tomorrow.\"\"\""
   ]
  },
  {
   "cell_type": "code",
   "execution_count": 6,
   "metadata": {},
   "outputs": [],
   "source": [
    "text = re.sub(r'\\[[0-9]*\\]',' ',para) # It removes any content that matches the pattern '[123]', '[456]', etc., leaving the rest of the text intact.\n",
    "text = re.sub(r'\\s',' ',text)\n",
    "text = text.lower()\n",
    "text = re.sub(r'\\d',' ',text)\n",
    "text = re.sub(r'\\s',' ',text)"
   ]
  },
  {
   "cell_type": "code",
   "execution_count": 8,
   "metadata": {},
   "outputs": [],
   "source": [
    "sentences = nltk.sent_tokenize(text)\n",
    "sentences = [nltk.word_tokenize(sentence) for sentence in sentences]"
   ]
  },
  {
   "cell_type": "code",
   "execution_count": 9,
   "metadata": {},
   "outputs": [],
   "source": [
    "for i in range(len(sentences)):\n",
    "    sentences[i] = [word for word in sentences[i] if word not in set(stopwords.words('english'))]\n"
   ]
  },
  {
   "cell_type": "code",
   "execution_count": 14,
   "metadata": {},
   "outputs": [],
   "source": [
    "models = Word2Vec(sentences,min_count=1)\n",
    "words = models.wv['continent']"
   ]
  },
  {
   "cell_type": "code",
   "execution_count": 15,
   "metadata": {},
   "outputs": [
    {
     "data": {
      "text/plain": [
       "array([ 5.1262993e-03, -4.4028801e-03, -9.1909235e-03, -9.0856021e-03,\n",
       "        6.2504178e-03, -5.2793440e-03,  5.2543082e-03, -1.5485375e-03,\n",
       "        9.6877059e-03,  7.1359738e-03,  9.8969042e-03,  8.3383825e-03,\n",
       "       -7.8753261e-03, -9.5915562e-03, -5.5542928e-03, -7.9786574e-04,\n",
       "        4.9953172e-03,  3.6475421e-03, -2.0279773e-03,  4.9887849e-03,\n",
       "       -3.4038359e-03, -6.8024280e-03,  4.7078705e-03, -9.8715378e-03,\n",
       "        8.7385986e-04, -5.0042551e-03,  7.5896359e-03, -3.7166455e-03,\n",
       "        2.8275801e-03, -6.2655727e-03,  9.6184043e-03, -5.5888644e-03,\n",
       "        3.6014558e-03,  3.2490604e-03,  8.9233341e-03, -5.5648903e-03,\n",
       "       -4.3580933e-03, -6.2219407e-03,  6.1512622e-03, -4.6103229e-03,\n",
       "        4.8098927e-03, -9.0149522e-04,  7.2779199e-03, -6.0272124e-03,\n",
       "       -9.1106027e-05, -8.5740190e-05, -8.5695982e-03,  8.7670200e-03,\n",
       "       -2.1127809e-03,  6.4574019e-03,  8.6178530e-05,  5.0143329e-03,\n",
       "        2.2338594e-03,  8.8330833e-03, -8.3202869e-03,  8.4335180e-03,\n",
       "        8.6602699e-03,  1.0556076e-03,  4.4130697e-03,  3.8421971e-03,\n",
       "        4.0602856e-03, -2.9307411e-03,  2.8511200e-03,  7.7618082e-04,\n",
       "        4.8358683e-03,  8.4295236e-03, -7.7209622e-03,  1.8130636e-04,\n",
       "       -8.7524382e-03, -1.5692099e-03, -9.0431068e-03,  3.1629172e-03,\n",
       "       -1.5505750e-03, -6.9171865e-04,  6.4385724e-03, -8.0925962e-03,\n",
       "        1.1406947e-03, -2.4310183e-03, -3.7391612e-03, -7.2968369e-03,\n",
       "       -7.9706414e-03,  8.3045177e-03, -7.4642971e-03,  4.8382482e-03,\n",
       "       -3.7634547e-03, -1.1955483e-03,  2.8330470e-03, -8.5655600e-03,\n",
       "       -5.6356015e-03, -7.7194218e-03, -9.3769236e-03, -4.7216224e-03,\n",
       "       -3.1596636e-03,  5.2038155e-04, -6.7388854e-04, -7.8659300e-03,\n",
       "       -3.8029079e-03, -2.7465629e-03, -6.3848388e-03, -6.3789277e-03],\n",
       "      dtype=float32)"
      ]
     },
     "execution_count": 15,
     "metadata": {},
     "output_type": "execute_result"
    }
   ],
   "source": [
    "words"
   ]
  },
  {
   "cell_type": "code",
   "execution_count": 17,
   "metadata": {},
   "outputs": [
    {
     "data": {
      "text/plain": [
       "[('promise', 0.19556784629821777),\n",
       " ('diversity', 0.17717961966991425),\n",
       " ('unique', 0.17417891323566437),\n",
       " ('loved', 0.17059141397476196),\n",
       " ('organizations', 0.16825897991657257),\n",
       " ('intertwine', 0.15908721089363098),\n",
       " ('peaks', 0.15608327090740204),\n",
       " ('across', 0.15380162000656128),\n",
       " ('ones', 0.14661473035812378),\n",
       " ('place', 0.14320319890975952)]"
      ]
     },
     "execution_count": 17,
     "metadata": {},
     "output_type": "execute_result"
    }
   ],
   "source": [
    "similar_word = models.wv.most_similar('continent')\n",
    "similar_word1"
   ]
  }
 ],
 "metadata": {
  "kernelspec": {
   "display_name": "base",
   "language": "python",
   "name": "python3"
  },
  "language_info": {
   "codemirror_mode": {
    "name": "ipython",
    "version": 3
   },
   "file_extension": ".py",
   "mimetype": "text/x-python",
   "name": "python",
   "nbconvert_exporter": "python",
   "pygments_lexer": "ipython3",
   "version": "3.9.12"
  }
 },
 "nbformat": 4,
 "nbformat_minor": 2
}
