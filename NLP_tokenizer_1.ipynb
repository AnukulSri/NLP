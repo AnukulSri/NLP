{
 "cells": [
  {
   "cell_type": "markdown",
   "metadata": {},
   "source": [
    "# Tokenization\n",
    "\n",
    "- It means taking a paragraph and converting then into a sentence.\n"
   ]
  },
  {
   "cell_type": "code",
   "execution_count": 1,
   "metadata": {},
   "outputs": [
    {
     "name": "stdout",
     "output_type": "stream",
     "text": [
      "showing info https://raw.githubusercontent.com/nltk/nltk_data/gh-pages/index.xml\n"
     ]
    },
    {
     "name": "stderr",
     "output_type": "stream",
     "text": [
      "[nltk_data] Downloading package punkt to\n",
      "[nltk_data]     C:\\Users\\anuku\\AppData\\Roaming\\nltk_data...\n",
      "[nltk_data]   Package punkt is already up-to-date!\n"
     ]
    },
    {
     "data": {
      "text/plain": [
       "True"
      ]
     },
     "execution_count": 1,
     "metadata": {},
     "output_type": "execute_result"
    }
   ],
   "source": [
    "import nltk\n",
    "nltk.download()\n",
    "nltk.download('punkt')"
   ]
  },
  {
   "cell_type": "code",
   "execution_count": 2,
   "metadata": {},
   "outputs": [],
   "source": [
    "para = \"\"\" The sun shone brightly as the hikers made their way through the dense forest. \n",
    "Birds chirped melodiously overhead, and a gentle breeze rustled the leaves. \n",
    "The adventurers navigated the winding trails, marveling at the lush greenery surrounding them. Suddenly, \n",
    "they stumbled upon a hidden waterfall, its cascading waters glistening in the sunlight.\n",
    "Mesmerized by the sight, they paused to admire the natural beauty before continuing their expedition.\"\"\""
   ]
  },
  {
   "cell_type": "markdown",
   "metadata": {},
   "source": [
    "## sentence tokenization"
   ]
  },
  {
   "cell_type": "code",
   "execution_count": 3,
   "metadata": {},
   "outputs": [],
   "source": [
    "sentence = nltk.sent_tokenize(para)"
   ]
  },
  {
   "cell_type": "code",
   "execution_count": 4,
   "metadata": {},
   "outputs": [
    {
     "data": {
      "text/plain": [
       "[' The sun shone brightly as the hikers made their way through the dense forest.',\n",
       " 'Birds chirped melodiously overhead, and a gentle breeze rustled the leaves.',\n",
       " 'The adventurers navigated the winding trails, marveling at the lush greenery surrounding them.',\n",
       " 'Suddenly, \\nthey stumbled upon a hidden waterfall, its cascading waters glistening in the sunlight.',\n",
       " 'Mesmerized by the sight, they paused to admire the natural beauty before continuing their expedition.']"
      ]
     },
     "execution_count": 4,
     "metadata": {},
     "output_type": "execute_result"
    }
   ],
   "source": [
    "sentence"
   ]
  },
  {
   "cell_type": "markdown",
   "metadata": {},
   "source": [
    "## word tokenization"
   ]
  },
  {
   "cell_type": "code",
   "execution_count": 5,
   "metadata": {},
   "outputs": [],
   "source": [
    "word = nltk.word_tokenize(para)"
   ]
  },
  {
   "cell_type": "code",
   "execution_count": 6,
   "metadata": {},
   "outputs": [
    {
     "data": {
      "text/plain": [
       "['The',\n",
       " 'sun',\n",
       " 'shone',\n",
       " 'brightly',\n",
       " 'as',\n",
       " 'the',\n",
       " 'hikers',\n",
       " 'made',\n",
       " 'their',\n",
       " 'way',\n",
       " 'through',\n",
       " 'the',\n",
       " 'dense',\n",
       " 'forest',\n",
       " '.',\n",
       " 'Birds',\n",
       " 'chirped',\n",
       " 'melodiously',\n",
       " 'overhead',\n",
       " ',',\n",
       " 'and',\n",
       " 'a',\n",
       " 'gentle',\n",
       " 'breeze',\n",
       " 'rustled',\n",
       " 'the',\n",
       " 'leaves',\n",
       " '.',\n",
       " 'The',\n",
       " 'adventurers',\n",
       " 'navigated',\n",
       " 'the',\n",
       " 'winding',\n",
       " 'trails',\n",
       " ',',\n",
       " 'marveling',\n",
       " 'at',\n",
       " 'the',\n",
       " 'lush',\n",
       " 'greenery',\n",
       " 'surrounding',\n",
       " 'them',\n",
       " '.',\n",
       " 'Suddenly',\n",
       " ',',\n",
       " 'they',\n",
       " 'stumbled',\n",
       " 'upon',\n",
       " 'a',\n",
       " 'hidden',\n",
       " 'waterfall',\n",
       " ',',\n",
       " 'its',\n",
       " 'cascading',\n",
       " 'waters',\n",
       " 'glistening',\n",
       " 'in',\n",
       " 'the',\n",
       " 'sunlight',\n",
       " '.',\n",
       " 'Mesmerized',\n",
       " 'by',\n",
       " 'the',\n",
       " 'sight',\n",
       " ',',\n",
       " 'they',\n",
       " 'paused',\n",
       " 'to',\n",
       " 'admire',\n",
       " 'the',\n",
       " 'natural',\n",
       " 'beauty',\n",
       " 'before',\n",
       " 'continuing',\n",
       " 'their',\n",
       " 'expedition',\n",
       " '.']"
      ]
     },
     "execution_count": 6,
     "metadata": {},
     "output_type": "execute_result"
    }
   ],
   "source": [
    "word"
   ]
  }
 ],
 "metadata": {
  "kernelspec": {
   "display_name": "base",
   "language": "python",
   "name": "python3"
  },
  "language_info": {
   "codemirror_mode": {
    "name": "ipython",
    "version": 3
   },
   "file_extension": ".py",
   "mimetype": "text/x-python",
   "name": "python",
   "nbconvert_exporter": "python",
   "pygments_lexer": "ipython3",
   "version": "3.9.12"
  }
 },
 "nbformat": 4,
 "nbformat_minor": 2
}
