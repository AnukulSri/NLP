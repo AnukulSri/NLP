{
 "cells": [
  {
   "cell_type": "markdown",
   "metadata": {},
   "source": [
    "# Tf-IDF\n",
    "\n",
    "- TF-IDF is abbreviated as term frequency- Inverse Document Frequency\n",
    "- It is also same as bag of words but it is much better than it.\n",
    "- It is used to evaluate the importance of word in a document relative to collection of documents\n",
    "\n",
    "## TF\n",
    " - it measures frequency of word\n",
    " - it indicates importance of word\n",
    " - formula = (no. of repetition of word)/no. of word in a sentence\n",
    "\n",
    "## IDF\n",
    " - it evaluates significance of a term across a collection of documents.\n",
    " - formula = log((no. of sentence)/( no. of sentence containing word))\n",
    "\n",
    "## TF-IDF\n",
    " - formula = TF * IDF\n",
    "\n",
    "\n",
    "### This can also be done by using scikit learn library in this there is a module named **TfidfVectorizer** by using which we can convert text into vector. "
   ]
  },
  {
   "cell_type": "code",
   "execution_count": 1,
   "metadata": {},
   "outputs": [],
   "source": [
    "import nltk\n",
    "from nltk.stem import WordNetLemmatizer\n",
    "from nltk.corpus import stopwords\n",
    "import re"
   ]
  },
  {
   "cell_type": "code",
   "execution_count": 2,
   "metadata": {},
   "outputs": [],
   "source": [
    "para = \"\"\"The world is a vast expanse of incredible diversity, where cultures, traditions, and people intertwine to form a rich tapestry of humanity.\n",
    " From the bustling streets of New York City, where skyscrapers pierce the sky, to the serene landscapes of the Amazon rainforest, \n",
    " where vibrant wildlife thrives in harmony, every corner of this planet holds its own unique wonders. Traveling through the cobbled \n",
    " streets of ancient European cities, one can feel the weight of history in every stone, while the tranquil temples of Asia exude a sense of \n",
    " spiritual tranquility. Across continents, languages dance in the air, each carrying its own melody and stories passed down through generations. \n",
    " In the heart of Africa, the rhythmic beats of drums echo the soul of a vibrant continent, while the icy landscapes of Antarctica stand in stark \n",
    " contrast, reminding us of the planet's extremes. Nature's marvels, from the majestic peaks of the Himalayas to the crystal-clear waters of the\n",
    "Great Barrier Reef, leave us awestruck by their beauty and grandeur. Humanity's accomplishments, from scientific breakthroughs to artistic \n",
    "masterpieces, shape the world and propel us into the future. As we navigate the complexities of the modern age, the interconnectedness of our \n",
    "global community becomes increasingly apparent. The internet serves as a digital bridge, connecting minds and ideas across continents in an instant. \n",
    "Yet, amidst our technological advancements, we face challenges that demand collective action - environmental crises, social inequalities, \n",
    "and geopolitical tensions. However, hope glimmers on the horizon, fueled by the determination of individuals and organizations working tirelessly\n",
    " for positive change. In the quiet moments of reflection, we find solace in the simple joys of life - a shared meal with loved ones, the laughter of children\n",
    " playing, and the beauty of a sunset painting the sky in hues of orange and gold. Our world, with all its complexities and contradictions, \n",
    " remains a place of infinite possibilities, where the human spirit perseveres, inspired by the promise of a better tomorrow.\"\"\""
   ]
  },
  {
   "cell_type": "code",
   "execution_count": 5,
   "metadata": {},
   "outputs": [],
   "source": [
    "corpus=[]"
   ]
  },
  {
   "cell_type": "code",
   "execution_count": 3,
   "metadata": {},
   "outputs": [],
   "source": [
    "sentence = nltk.sent_tokenize(para)"
   ]
  },
  {
   "cell_type": "code",
   "execution_count": 4,
   "metadata": {},
   "outputs": [],
   "source": [
    "lem = WordNetLemmatizer()"
   ]
  },
  {
   "cell_type": "code",
   "execution_count": 6,
   "metadata": {},
   "outputs": [],
   "source": [
    "for i in range(len(sentence)):\n",
    "    review = re.sub('[^a-zA-Z]',' ',sentence[i])\n",
    "    review = review.lower()\n",
    "    review = review.split()\n",
    "    review = [lem.lemmatize(word) for word in review if word not in set(stopwords.words('english'))]\n",
    "    review = ' '.join(review)\n",
    "    corpus.append(review)"
   ]
  },
  {
   "cell_type": "code",
   "execution_count": 8,
   "metadata": {},
   "outputs": [
    {
     "data": {
      "text/plain": [
       "['world vast expanse incredible diversity culture tradition people intertwine form rich tapestry humanity',\n",
       " 'bustling street new york city skyscraper pierce sky serene landscape amazon rainforest vibrant wildlife thrives harmony every corner planet hold unique wonder',\n",
       " 'traveling cobbled street ancient european city one feel weight history every stone tranquil temple asia exude sense spiritual tranquility',\n",
       " 'across continent language dance air carrying melody story passed generation',\n",
       " 'heart africa rhythmic beat drum echo soul vibrant continent icy landscape antarctica stand stark contrast reminding u planet extreme',\n",
       " 'nature marvel majestic peak himalaya crystal clear water great barrier reef leave u awestruck beauty grandeur',\n",
       " 'humanity accomplishment scientific breakthrough artistic masterpiece shape world propel u future',\n",
       " 'navigate complexity modern age interconnectedness global community becomes increasingly apparent',\n",
       " 'internet serf digital bridge connecting mind idea across continent instant',\n",
       " 'yet amidst technological advancement face challenge demand collective action environmental crisis social inequality geopolitical tension',\n",
       " 'however hope glimmer horizon fueled determination individual organization working tirelessly positive change',\n",
       " 'quiet moment reflection find solace simple joy life shared meal loved one laughter child playing beauty sunset painting sky hue orange gold',\n",
       " 'world complexity contradiction remains place infinite possibility human spirit perseveres inspired promise better tomorrow']"
      ]
     },
     "execution_count": 8,
     "metadata": {},
     "output_type": "execute_result"
    }
   ],
   "source": [
    "corpus"
   ]
  },
  {
   "cell_type": "markdown",
   "metadata": {},
   "source": [
    "# Creating TF-IDF"
   ]
  },
  {
   "cell_type": "code",
   "execution_count": 9,
   "metadata": {},
   "outputs": [],
   "source": [
    "from sklearn.feature_extraction.text import TfidfVectorizer"
   ]
  },
  {
   "cell_type": "code",
   "execution_count": 10,
   "metadata": {},
   "outputs": [],
   "source": [
    "tv = TfidfVectorizer()"
   ]
  },
  {
   "cell_type": "code",
   "execution_count": 11,
   "metadata": {},
   "outputs": [],
   "source": [
    "x= tv.fit_transform(corpus).toarray()"
   ]
  },
  {
   "cell_type": "code",
   "execution_count": 12,
   "metadata": {},
   "outputs": [
    {
     "data": {
      "text/plain": [
       "array([[0.        , 0.        , 0.        , ..., 0.21779192, 0.        ,\n",
       "        0.        ],\n",
       "       [0.        , 0.        , 0.        , ..., 0.        , 0.        ,\n",
       "        0.22246573],\n",
       "       [0.        , 0.        , 0.        , ..., 0.        , 0.        ,\n",
       "        0.        ],\n",
       "       ...,\n",
       "       [0.        , 0.        , 0.        , ..., 0.        , 0.        ,\n",
       "        0.        ],\n",
       "       [0.        , 0.        , 0.        , ..., 0.        , 0.        ,\n",
       "        0.        ],\n",
       "       [0.        , 0.        , 0.        , ..., 0.20946245, 0.        ,\n",
       "        0.        ]])"
      ]
     },
     "execution_count": 12,
     "metadata": {},
     "output_type": "execute_result"
    }
   ],
   "source": [
    "x"
   ]
  }
 ],
 "metadata": {
  "kernelspec": {
   "display_name": "base",
   "language": "python",
   "name": "python3"
  },
  "language_info": {
   "codemirror_mode": {
    "name": "ipython",
    "version": 3
   },
   "file_extension": ".py",
   "mimetype": "text/x-python",
   "name": "python",
   "nbconvert_exporter": "python",
   "pygments_lexer": "ipython3",
   "version": "3.9.12"
  }
 },
 "nbformat": 4,
 "nbformat_minor": 2
}
